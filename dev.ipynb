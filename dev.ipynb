{
 "cells": [
  {
   "cell_type": "code",
   "execution_count": null,
   "metadata": {
    "pycharm": {
     "name": "#%%\n"
    }
   },
   "outputs": [],
   "source": [
    "import getpass\n",
    "from dalle.imperative.api.labs import get_bearer_token\n",
    "\n",
    "print(\"Attempting to get token for DALL-E...\")\n",
    "token = get_bearer_token(\n",
    "    input(\"OpenAI Username: \"),\n",
    "    getpass.getpass('OpenAI Password: ')\n",
    ")\n",
    "print(\"Token:\", token[:5] + (\"*\" * (len(token) - 5)))"
   ]
  },
  {
   "cell_type": "code",
   "execution_count": null,
   "metadata": {
    "pycharm": {
     "name": "#%%\n"
    }
   },
   "outputs": [],
   "source": [
    "from dalle.imperative.api.labs import get_tasks\n",
    "\n",
    "from_ts = 0\n",
    "print(\"Getting tasks for tasks starting from timestamp\", from_ts)\n",
    "tasks = get_tasks(token, from_ts)\n",
    "print(\"# of Tasks:\", len(tasks))"
   ]
  },
  {
   "cell_type": "code",
   "execution_count": null,
   "metadata": {
    "pycharm": {
     "name": "#%%\n"
    }
   },
   "outputs": [],
   "source": [
    "from typing import List\n",
    "import matplotlib.pyplot as plt\n",
    "from PIL import Image as PILImage\n",
    "from PIL.Image import Image as PILImageType\n",
    "from urllib.request import urlopen\n",
    "import textwrap, os\n",
    "\n",
    "def display_images(\n",
    "    images: List[PILImageType],\n",
    "    columns=4, width=20, height=8, max_images=24,\n",
    "    label_wrap_length=50, label_font_size=8,\n",
    "    disable_axis=True):\n",
    "\n",
    "    if not images:\n",
    "        print(\"No images to display.\")\n",
    "        return\n",
    "\n",
    "    if len(images) > max_images:\n",
    "        print(f\"Showing {max_images} images of {len(images)}:\")\n",
    "        images=images[0:max_images]\n",
    "\n",
    "    height = max(height, int(len(images)/columns) * height)\n",
    "    plt.figure(figsize=(width, height))\n",
    "    for i, image in enumerate(images):\n",
    "\n",
    "        plt.subplot(int(len(images) / columns + 1), columns, i + 1)\n",
    "        if disable_axis:\n",
    "            plt.axis('off')\n",
    "        plt.imshow(image)\n",
    "\n",
    "        if hasattr(image, 'filename'):\n",
    "            title=image.filename\n",
    "            if title.endswith(\"/\"): title = title[0:-1]\n",
    "            title=os.path.basename(title)\n",
    "            title=textwrap.wrap(title, label_wrap_length)\n",
    "            title=\"\\n\".join(title)\n",
    "            plt.title(title, fontsize=label_font_size)\n",
    "\n",
    "def generation_to_pil(g):\n",
    "    img = urlopen(g.generation.image_path)\n",
    "    return PILImage.open(img)\n",
    "\n",
    "def display_task_generations(t):\n",
    "    images = []\n",
    "    for generation in t.generations:\n",
    "        images.append(generation_to_pil(generation))\n",
    "    display_images(images)"
   ]
  },
  {
   "cell_type": "code",
   "execution_count": null,
   "metadata": {
    "pycharm": {
     "name": "#%%\n"
    }
   },
   "outputs": [],
   "source": [
    "if tasks:\n",
    "    display_task_generations(tasks[0])\n",
    "else:\n",
    "    print(\"No tasks found.\")"
   ]
  },
  {
   "cell_type": "code",
   "execution_count": null,
   "metadata": {
    "pycharm": {
     "name": "#%%\n"
    }
   },
   "outputs": [],
   "source": [
    "from dalle.imperative.api.labs import create_text2im_task\n",
    "\n",
    "print(\"Attempting to create text2im task...\")\n",
    "pending_task = create_text2im_task(token, \"A cute cat\")\n",
    "print(pending_task)"
   ]
  },
  {
   "cell_type": "code",
   "execution_count": null,
   "metadata": {
    "pycharm": {
     "name": "#%%\n"
    }
   },
   "outputs": [],
   "source": [
    "from dalle.imperative.api.labs import poll_for_task_completion\n",
    "\n",
    "print(\"Waiting for task to complete...\")\n",
    "task = poll_for_task_completion(token, pending_task.id)\n",
    "display_task_generations(task)"
   ]
  },
  {
   "cell_type": "code",
   "execution_count": null,
   "metadata": {
    "pycharm": {
     "name": "#%%\n"
    }
   },
   "outputs": [],
   "source": [
    "from dalle.imperative.api.labs import create_variations_task\n",
    "\n",
    "print(\"Attempting to create variations task...\")\n",
    "pending_task = create_variations_task(token, task.generations[0].id)\n",
    "print(pending_task)"
   ]
  },
  {
   "cell_type": "code",
   "execution_count": null,
   "metadata": {
    "pycharm": {
     "name": "#%%\n"
    }
   },
   "outputs": [],
   "source": [
    "print(\"Waiting for task to complete...\")\n",
    "task = poll_for_task_completion(token, pending_task.id)\n",
    "display_task_generations(task)"
   ]
  },
  {
   "cell_type": "code",
   "execution_count": null,
   "metadata": {
    "pycharm": {
     "name": "#%%\n"
    }
   },
   "outputs": [],
   "source": [
    "import base64\n",
    "from io import BytesIO\n",
    "\n",
    "# Convert generation to a cropped base64 PNG string\n",
    "image = generation_to_pil(task.generations[0])\n",
    "image = image.convert(\"RGBA\")\n",
    "for i in range(image.width):\n",
    "    if i > image.width / 2:\n",
    "        for j in range(image.height):\n",
    "            image.putpixel((i, j), (0, 0, 0, 0))\n",
    "with BytesIO() as buffer:\n",
    "    image.save(buffer, format=\"PNG\")\n",
    "    base64_png = base64.b64encode(buffer.getvalue()).decode()\n",
    "image"
   ]
  },
  {
   "cell_type": "code",
   "execution_count": null,
   "metadata": {
    "pycharm": {
     "name": "#%%\n"
    }
   },
   "outputs": [],
   "source": [
    "from dalle.imperative.api.labs import create_inpainting_task\n",
    "\n",
    "\n",
    "print(\"Attempting to create inpainting task...\")\n",
    "pending_task = create_inpainting_task(token, caption=\"A cute cat, with a dark side\",\n",
    "                                          masked_image=base64_png,\n",
    "                                          parent_id_or_image=task.generations[0].id)\n",
    "print(pending_task)"
   ]
  },
  {
   "cell_type": "code",
   "execution_count": null,
   "metadata": {
    "pycharm": {
     "name": "#%%\n"
    }
   },
   "outputs": [],
   "source": [
    "print(\"Waiting for task to complete...\")\n",
    "task = poll_for_task_completion(token, pending_task.id)\n",
    "display_task_generations(task)"
   ]
  }
 ],
 "metadata": {
  "kernelspec": {
   "display_name": "Python 3 (ipykernel)",
   "language": "python",
   "name": "python3"
  },
  "language_info": {
   "codemirror_mode": {
    "name": "ipython",
    "version": 3
   },
   "file_extension": ".py",
   "mimetype": "text/x-python",
   "name": "python",
   "nbconvert_exporter": "python",
   "pygments_lexer": "ipython3",
   "version": "3.8.13"
  }
 },
 "nbformat": 4,
 "nbformat_minor": 1
}