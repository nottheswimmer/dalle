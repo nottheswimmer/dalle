{
 "cells": [
  {
   "cell_type": "code",
   "execution_count": null,
   "metadata": {
    "pycharm": {
     "name": "#%%\n"
    }
   },
   "outputs": [],
   "source": [
    "import getpass\n",
    "from dalle.imperative.api.labs import get_bearer_token\n",
    "\n",
    "print(\"Attempting to get token for DALL-E...\")\n",
    "token = get_bearer_token(\n",
    "    input(\"OpenAI Username: \"),\n",
    "    getpass.getpass('OpenAI Password: ')\n",
    ")\n",
    "print(\"Token:\", token[:5] + (\"*\" * (len(token) - 5)))"
   ]
  },
  {
   "cell_type": "code",
   "execution_count": null,
   "metadata": {
    "pycharm": {
     "name": "#%%\n"
    }
   },
   "outputs": [],
   "source": [
    "from dalle.imperative.api.labs import get_tasks\n",
    "\n",
    "from_ts = 0\n",
    "print(\"Getting tasks for tasks starting from timestamp\", from_ts)\n",
    "tasks = get_tasks(token, from_ts)\n",
    "print(\"# of Tasks:\", len(tasks.data))"
   ]
  },
  {
   "cell_type": "code",
   "execution_count": null,
   "metadata": {
    "pycharm": {
     "name": "#%%\n"
    }
   },
   "outputs": [],
   "source": [
    "import matplotlib.pyplot as plt\n",
    "from PIL.Image import Image\n",
    "import textwrap, os\n",
    "\n",
    "def display_images(\n",
    "    images: [Image],\n",
    "    columns=4, width=20, height=8, max_images=24,\n",
    "    label_wrap_length=50, label_font_size=8,\n",
    "    disable_axis=True):\n",
    "\n",
    "    if not images:\n",
    "        print(\"No images to display.\")\n",
    "        return\n",
    "\n",
    "    if len(images) > max_images:\n",
    "        print(f\"Showing {max_images} images of {len(images)}:\")\n",
    "        images=images[0:max_images]\n",
    "\n",
    "    height = max(height, int(len(images)/columns) * height)\n",
    "    plt.figure(figsize=(width, height))\n",
    "    for i, image in enumerate(images):\n",
    "\n",
    "        plt.subplot(int(len(images) / columns + 1), columns, i + 1)\n",
    "        if disable_axis:\n",
    "            plt.axis('off')\n",
    "        plt.imshow(image)\n",
    "\n",
    "        if hasattr(image, 'filename'):\n",
    "            title=image.filename\n",
    "            if title.endswith(\"/\"): title = title[0:-1]\n",
    "            title=os.path.basename(title)\n",
    "            title=textwrap.wrap(title, label_wrap_length)\n",
    "            title=\"\\n\".join(title)\n",
    "            plt.title(title, fontsize=label_font_size)"
   ]
  },
  {
   "cell_type": "code",
   "execution_count": null,
   "metadata": {
    "pycharm": {
     "name": "#%%\n"
    }
   },
   "outputs": [],
   "source": [
    "from urllib.request import urlopen\n",
    "from PIL import Image\n",
    "\n",
    "images = []\n",
    "for task in tasks.data:\n",
    "    for generation in task.generations:\n",
    "        img = urlopen(generation.generation.image_path)\n",
    "        images.append(Image.open(img))\n",
    "    if len(images) >= 4:\n",
    "        break\n",
    "\n",
    "display_images(images)"
   ]
  },
  {
   "cell_type": "code",
   "execution_count": null,
   "metadata": {
    "pycharm": {
     "name": "#%%\n"
    }
   },
   "outputs": [],
   "source": [
    "from dalle.imperative.api.labs import create_text2im_task, poll_for_task_completion\n",
    "\n",
    "print(\"Attempting to create task...\")\n",
    "pending_task = create_text2im_task(token, \"A cute cat\")\n",
    "print(pending_task.id, pending_task.status, pending_task.generations)\n",
    "print(\"Waiting for task to complete...\")\n",
    "task = poll_for_task_completion(token, pending_task.id)\n",
    "print(task.id, task.status, task.generations)\n",
    "display_images([Image.open(urlopen(x.generation.image_path)) for x in task.generations])"
   ]
  }
 ],
 "metadata": {
  "kernelspec": {
   "display_name": "Python 3 (ipykernel)",
   "language": "python",
   "name": "python3"
  },
  "language_info": {
   "codemirror_mode": {
    "name": "ipython",
    "version": 3
   },
   "file_extension": ".py",
   "mimetype": "text/x-python",
   "name": "python",
   "nbconvert_exporter": "python",
   "pygments_lexer": "ipython3",
   "version": "3.8.13"
  }
 },
 "nbformat": 4,
 "nbformat_minor": 1
}